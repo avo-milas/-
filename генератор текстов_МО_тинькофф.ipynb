{
 "cells": [
  {
   "cell_type": "markdown",
   "id": "1edda563",
   "metadata": {},
   "source": [
    " # Генератор текстов"
   ]
  },
  {
   "cell_type": "code",
   "execution_count": 81,
   "id": "207459c8",
   "metadata": {},
   "outputs": [],
   "source": [
    "import re\n",
    "import numpy as np"
   ]
  },
  {
   "cell_type": "markdown",
   "id": "b9052d9f",
   "metadata": {},
   "source": [
    "Создание словарей\n",
    "\n",
    "1) счетчик одиночных слов\n",
    "\n",
    "2) пары слов\n",
    "\n",
    "3) подсчет вероятностей"
   ]
  },
  {
   "cell_type": "code",
   "execution_count": 82,
   "id": "dd62c928",
   "metadata": {},
   "outputs": [],
   "source": [
    "dict_dif_words = {}  # счетчик одиночных слов\n",
    "dict_dif_pairs = {}  # пары слов\n",
    "dict_probability = {}  # подсчет вероятностей"
   ]
  },
  {
   "cell_type": "code",
   "execution_count": 83,
   "id": "3dbce13c",
   "metadata": {},
   "outputs": [],
   "source": [
    "with open('Обучение_МО.txt', encoding='utf-8') as txt1:\n",
    "    body = txt1.read().lower()\n",
    "    net_body = re.sub(r'[^а-яА-Я\\s]', '', body)\n",
    "    net_body = net_body.split()"
   ]
  },
  {
   "cell_type": "code",
   "execution_count": 84,
   "id": "3641361a",
   "metadata": {},
   "outputs": [],
   "source": [
    "n = len(net_body)\n",
    "first_word = net_body[0]\n",
    "dict_dif_words[first_word] = 1\n",
    "previous_word = first_word"
   ]
  },
  {
   "cell_type": "markdown",
   "id": "02c1ec46",
   "metadata": {},
   "source": [
    "Подсчет слов, заполнение словаря с потенциальными суффиксами"
   ]
  },
  {
   "cell_type": "code",
   "execution_count": 85,
   "id": "c4c6dff2",
   "metadata": {},
   "outputs": [],
   "source": [
    "for i in range(1, n):\n",
    "    word1 = net_body[i]\n",
    "    dict_dif_words[word1] = dict_dif_words.get(word1, 0) + 1\n",
    "    dict_dif_pairs[previous_word] = dict_dif_pairs.setdefault(previous_word, {})\n",
    "    dict_dif_pairs[previous_word][word1] = dict_dif_pairs[previous_word].get(word1, 0) + 1\n",
    "    previous_word = word1"
   ]
  },
  {
   "cell_type": "markdown",
   "id": "29a3a6cf",
   "metadata": {},
   "source": [
    "Подсчет вероятностей"
   ]
  },
  {
   "cell_type": "code",
   "execution_count": 86,
   "id": "87b86476",
   "metadata": {},
   "outputs": [],
   "source": [
    "for word2 in dict_dif_pairs.keys():\n",
    "    for possible_option in dict_dif_pairs[word2].keys():\n",
    "        probability = dict_dif_pairs[word2][possible_option] / dict_dif_words[word2]\n",
    "        dict_probability[word2] = dict_probability.setdefault(word2, [])\n",
    "        dict_probability[word2].append((possible_option, probability))"
   ]
  },
  {
   "cell_type": "markdown",
   "id": "4864cf68",
   "metadata": {},
   "source": [
    "Генерация текста: начальное слово, размер текста"
   ]
  },
  {
   "cell_type": "code",
   "execution_count": 87,
   "id": "d7364a5b",
   "metadata": {},
   "outputs": [
    {
     "name": "stdout",
     "output_type": "stream",
     "text": [
      "выбор\n",
      "23\n"
     ]
    }
   ],
   "source": [
    "first_word_generation = input()\n",
    "size_of_txt = int(input())\n",
    "text = [first_word_generation]\n",
    "previous_word_text = first_word_generation"
   ]
  },
  {
   "cell_type": "markdown",
   "id": "b16db4c5",
   "metadata": {},
   "source": [
    "Вывод текста"
   ]
  },
  {
   "cell_type": "code",
   "execution_count": 88,
   "id": "beebd683",
   "metadata": {},
   "outputs": [
    {
     "name": "stdout",
     "output_type": "stream",
     "text": [
      "выбор верного колеса дело когда вопрос гарри трумэну не требуют компенсации дела других а налогоплательщики должны вести машину по рыночной процентной ставке и\n"
     ]
    }
   ],
   "source": [
    "for cnt in range(size_of_txt - 1):\n",
    "    nxt_word_ind = np.random.choice(len(dict_probability[previous_word_text]))\n",
    "    nxt_word = dict_probability[previous_word_text][nxt_word_ind][0]\n",
    "    text.append(nxt_word)\n",
    "    previous_word_text = nxt_word\n",
    "print(*text)"
   ]
  },
  {
   "cell_type": "code",
   "execution_count": null,
   "id": "5a54d02e",
   "metadata": {},
   "outputs": [],
   "source": []
  },
  {
   "cell_type": "code",
   "execution_count": null,
   "id": "98bc7136",
   "metadata": {},
   "outputs": [],
   "source": []
  },
  {
   "cell_type": "code",
   "execution_count": null,
   "id": "e9b6babf",
   "metadata": {},
   "outputs": [],
   "source": []
  }
 ],
 "metadata": {
  "kernelspec": {
   "display_name": "Python 3",
   "language": "python",
   "name": "python3"
  },
  "language_info": {
   "codemirror_mode": {
    "name": "ipython",
    "version": 3
   },
   "file_extension": ".py",
   "mimetype": "text/x-python",
   "name": "python",
   "nbconvert_exporter": "python",
   "pygments_lexer": "ipython3",
   "version": "3.8.8"
  }
 },
 "nbformat": 4,
 "nbformat_minor": 5
}
